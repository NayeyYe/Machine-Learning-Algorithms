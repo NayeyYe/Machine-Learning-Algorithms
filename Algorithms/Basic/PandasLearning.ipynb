{
 "cells": [
  {
   "cell_type": "markdown",
   "metadata": {},
   "source": [
    "# Pandas 学习路线\n",
    "\n",
    "## 任务1：Pandas 基础入门\n",
    "\n",
    "学习目标：了解 Pandas 的基本概念和核心数据结构"
   ]
  },
  {
   "cell_type": "code",
   "execution_count": null,
   "metadata": {},
   "outputs": [],
   "source": [
    "# 任务1完成步骤：\n",
    "# 1. 安装 pandas 库：pip install pandas\n",
    "# 2. 导入 pandas 库：import pandas as pd\n",
    "# 3. 了解 Series 和 DataFrame 两种核心数据结构\n",
    "# 4. 学习如何创建 Series 和 DataFrame\n",
    "# 5. 掌握基本的数据查看方法（head, tail, info, describe）"
   ]
  },
  {
   "cell_type": "markdown",
   "metadata": {},
   "source": [
    "## 任务2：数据导入与导出\n",
    "\n",
    "学习目标：掌握各种数据格式的导入导出操作"
   ]
  },
  {
   "cell_type": "code",
   "execution_count": null,
   "metadata": {},
   "outputs": [],
   "source": [
    "# 任务2完成步骤：\n",
    "# 1. 学习读取 CSV 文件：pd.read_csv()\n",
    "# 2. 学习读取 Excel 文件：pd.read_excel()\n",
    "# 3. 学习读取 JSON 文件：pd.read_json()\n",
    "# 4. 学习数据导出：to_csv(), to_excel(), to_json()\n",
    "# 5. 了解不同格式的参数配置"
   ]
  },
  {
   "cell_type": "markdown",
   "metadata": {},
   "source": [
    "## 任务3：数据选择与过滤\n",
    "\n",
    "学习目标：掌握数据的选择、切片和条件过滤"
   ]
  },
  {
   "cell_type": "code",
   "execution_count": null,
   "metadata": {},
   "outputs": [],
   "source": [
    "# 任务3完成步骤：\n",
    "# 1. 学习列选择：df['column_name'] 或 df.column_name\n",
    "# 2. 学习行选择：df.loc[] 和 df.iloc[]\n",
    "# 3. 掌握条件过滤：df[df['column'] > value]\n",
    "# 4. 学习多条件过滤：& (与), | (或), ~ (非)\n",
    "# 5. 练习复杂的数据选择操作"
   ]
  },
  {
   "cell_type": "markdown",
   "metadata": {},
   "source": [
    "## 任务4：数据清洗与处理\n",
    "\n",
    "学习目标：掌握数据清洗的基本技能"
   ]
  },
  {
   "cell_type": "code",
   "execution_count": null,
   "metadata": {},
   "outputs": [],
   "source": [
    "# 任务4完成步骤：\n",
    "# 1. 检测缺失值：isnull(), notnull()\n",
    "# 2. 处理缺失值：dropna(), fillna()\n",
    "# 3. 去除重复值：drop_duplicates()\n",
    "# 4. 数据类型转换：astype()\n",
    "# 5. 字符串操作：str 系列方法"
   ]
  },
  {
   "cell_type": "markdown",
   "metadata": {},
   "source": [
    "## 任务5：数据分组与聚合\n",
    "\n",
    "学习目标：掌握数据的分组统计和聚合操作"
   ]
  },
  {
   "cell_type": "code",
   "execution_count": null,
   "metadata": {},
   "outputs": [],
   "source": [
    "# 任务5完成步骤：\n",
    "# 1. 学习 groupby 操作：df.groupby()\n",
    "# 2. 掌握聚合函数：sum(), mean(), count(), max(), min()\n",
    "# 3. 学习多个列的分组聚合\n",
    "# 4. 掌握 agg() 方法进行多种聚合\n",
    "# 5. 学习 transform 和 apply 方法"
   ]
  },
  {
   "cell_type": "markdown",
   "metadata": {},
   "source": [
    "## 任务6：数据合并与连接\n",
    "\n",
    "学习目标：掌握多个数据集的合并操作"
   ]
  },
  {
   "cell_type": "code",
   "execution_count": null,
   "metadata": {},
   "outputs": [],
   "source": [
    "# 任务6完成步骤：\n",
    "# 1. 学习 concat 纵向和横向合并：pd.concat()\n",
    "# 2. 掌握 merge 数据库风格连接：pd.merge()\n",
    "# 3. 学习 join 操作：df.join()\n",
    "# 4. 理解不同连接方式：inner, outer, left, right\n",
    "# 5. 处理合并后的数据冲突"
   ]
  },
  {
   "cell_type": "markdown",
   "metadata": {},
   "source": [
    "## 任务7：时间序列处理\n",
    "\n",
    "学习目标：掌握时间序列数据的处理技能"
   ]
  },
  {
   "cell_type": "code",
   "execution_count": null,
   "metadata": {},
   "outputs": [],
   "source": [
    "# 任务7完成步骤：\n",
    "# 1. 创建时间序列：pd.date_range(), pd.to_datetime()\n",
    "# 2. 设置时间索引：df.set_index()\n",
    "# 3. 时间序列切片和选择\n",
    "# 4. 时间重采样：resample()\n",
    "# 5. 时间窗口操作：rolling()"
   ]
  },
  {
   "cell_type": "markdown",
   "metadata": {},
   "source": [
    "## 任务8：数据可视化\n",
    "\n",
    "学习目标：使用 Pandas 进行基本的数据可视化"
   ]
  },
  {
   "cell_type": "code",
   "execution_count": null,
   "metadata": {},
   "outputs": [],
   "source": [
    "# 任务8完成步骤：\n",
    "# 1. 学习基本绘图：df.plot()\n",
    "# 2. 掌握不同图表类型：line, bar, hist, scatter, box\n",
    "# 3. 自定义图表样式和参数\n",
    "# 4. 多子图绘制：subplots\n",
    "# 5. 结合 matplotlib 进行高级可视化"
   ]
  },
  {
   "cell_type": "markdown",
   "metadata": {},
   "source": [
    "## 任务9：高级操作与性能优化\n",
    "\n",
    "学习目标：掌握 Pandas 的高级功能和性能优化技巧"
   ]
  },
  {
   "cell_type": "code",
   "execution_count": null,
   "metadata": {},
   "outputs": [],
   "source": [
    "# 任务9完成步骤：\n",
    "# 1. 学习 pivot_table 和交叉表\n",
    "# 2. 掌握多级索引操作\n",
    "# 3. 学习向量化操作提高性能\n",
    "# 4. 使用 apply 和 map 进行自定义操作\n",
    "# 5. 内存优化技巧和数据类型选择"
   ]
  },
  {
   "cell_type": "markdown",
   "metadata": {},
   "source": [
    "## 任务10：实战项目练习\n",
    "\n",
    "学习目标：通过实际项目巩固所学知识"
   ]
  },
  {
   "cell_type": "code",
   "execution_count": null,
   "metadata": {},
   "outputs": [],
   "source": [
    "# 任务10完成步骤：\n",
    "# 1. 选择真实数据集进行分析\n",
    "# 2. 完整的数据清洗流程\n",
    "# 3. 探索性数据分析（EDA）\n",
    "# 4. 数据可视化和洞察提取\n",
    "# 5. 撰写分析报告和总结"
   ]
  }
 ],
 "metadata": {
  "kernelspec": {
   "display_name": "Python 3",
   "language": "python",
   "name": "python3"
  },
  "language_info": {
   "codemirror_mode": {
    "name": "ipython",
    "version": 3
   },
   "file_extension": ".py",
   "mimetype": "text/x-python",
   "name": "python",
   "nbconvert_exporter": "python",
   "pygments_lexer": "ipython3",
   "version": "3.8.5"
  }
 },
 "nbformat": 4,
 "nbformat_minor": 4
}
