{
 "cells": [
  {
   "cell_type": "markdown",
   "metadata": {},
   "source": [
    "# NumPy 学习教程\n",
    "\n",
    "欢迎来到NumPy学习教程！本教程将按照循序渐进的方式，带你掌握NumPy的核心概念和技能。\n",
    "\n",
    "## 学习目标\n",
    "- 理解NumPy的基础概念和优势\n",
    "- 掌握数组的创建和操作方法\n",
    "- 学会使用NumPy进行数学运算\n",
    "- 理解广播机制和数组变形\n",
    "- 能够应用NumPy解决实际问题\n",
    "\n",
    "## 学习建议\n",
    "1. **动手实践**：每个代码块都要亲自编写和运行\n",
    "2. **理解原理**：不仅要会用，还要理解为什么\n",
    "3. **循序渐进**：确保每个章节都掌握后再进入下一章节\n",
    "4. **多做练习**：尝试用学到的知识解决实际问题"
   ]
  },
  {
   "cell_type": "markdown",
   "metadata": {},
   "source": [
    "## 第1章：NumPy基础概念\n",
    "\n",
    "### 学习目标\n",
    "- 了解什么是NumPy及其重要性\n",
    "- 掌握NumPy的安装和导入方法\n",
    "- 理解NumPy与Python列表的区别\n",
    "\n",
    "### 重要概念\n",
    "- **NumPy**：Python中用于科学计算的核心库\n",
    "- **ndarray**：NumPy的多维数组对象\n",
    "- **向量化操作**：对整个数组进行操作，无需循环\n",
    "- **性能优势**：比Python列表更快的运算速度"
   ]
  },
  {
   "cell_type": "code",
   "execution_count": null,
   "metadata": {},
   "outputs": [],
   "source": [
    "# 任务1：导入NumPy库并检查版本\n",
    "# 要求：\n",
    "# 1. 导入numpy库，使用别名np\n",
    "# 2. 打印NumPy的版本信息\n",
    "# 3. 打印NumPy的配置信息\n",
    "\n",
    "# 在这里编写你的代码：\n"
   ]
  },
  {
   "cell_type": "code",
   "execution_count": null,
   "metadata": {},
   "outputs": [],
   "source": [
    "# 任务2：理解NumPy数组与Python列表的区别\n",
    "# 要求：\n",
    "# 1. 创建一个Python列表，包含数字1-5\n",
    "# 2. 创建一个NumPy数组，包含相同的数字\n",
    "# 3. 对列表和数组分别进行乘法运算，观察区别\n",
    "# 4. 打印两种数据类型和结果\n",
    "\n",
    "# 在这里编写你的代码：\n"
   ]
  },
  {
   "cell_type": "markdown",
   "metadata": {},
   "source": [
    "## 第2章：数组创建\n",
    "\n",
    "### 学习目标\n",
    "- 掌握各种创建NumPy数组的方法\n",
    "- 理解不同创建方法的适用场景\n",
    "- 学会创建特殊类型的数组\n",
    "\n",
    "### 核心方法\n",
    "- `np.array()`：从列表创建数组\n",
    "- `np.zeros()`：创建全零数组\n",
    "- `np.ones()`：创建全一数组\n",
    "- `np.arange()`：创建等差数列\n",
    "- `np.linspace()`：创建等间距数列\n",
    "- `np.random.random()`：创建随机数组"
   ]
  },
  {
   "cell_type": "code",
   "execution_count": null,
   "metadata": {},
   "outputs": [],
   "source": [
    "# 任务3：从列表创建数组\n",
    "# 要求：\n",
    "# 1. 从一维列表[1,2,3,4,5]创建数组\n",
    "# 2. 从二维列表[[1,2,3],[4,5,6]]创建数组\n",
    "# 3. 从三维列表创建一个2x2x2的数组\n",
    "# 4. 打印每个数组的形状和维度\n",
    "\n",
    "# 在这里编写你的代码：\n"
   ]
  },
  {
   "cell_type": "code",
   "execution_count": null,
   "metadata": {},
   "outputs": [],
   "source": [
    "# 任务4：创建特殊数组\n",
    "# 要求：\n",
    "# 1. 创建一个3x4的全零数组\n",
    "# 2. 创建一个2x3的全一数组\n",
    "# 3. 创建一个3x3的单位矩阵\n",
    "# 4. 创建一个2x2的填充7的数组\n",
    "\n",
    "# 在这里编写你的代码：\n"
   ]
  },
  {
   "cell_type": "code",
   "execution_count": null,
   "metadata": {},
   "outputs": [],
   "source": [
    "# 任务5：创建序列数组\n",
    "# 要求：\n",
    "# 1. 使用arange创建0-10的数组，步长为2\n",
    "# 2. 使用arange创建10-0的递减数组\n",
    "# 3. 使用linspace创建0-1之间的5个等间距数\n",
    "# 4. 使用linspace创建0-2π之间的10个等间距数\n",
    "\n",
    "# 在这里编写你的代码：\n"
   ]
  },
  {
   "cell_type": "code",
   "execution_count": null,
   "metadata": {},
   "outputs": [],
   "source": [
    "# 任务6：创建随机数组\n",
    "# 要求：\n",
    "# 1. 创建一个2x3的随机数组（0-1之间）\n",
    "# 2. 创建一个3x3的随机整数数组（0-10之间）\n",
    "# 3. 创建一个符合正态分布的随机数组（均值0，标准差1）\n",
    "# 4. 设置随机种子为42，然后创建一个2x2的随机数组\n",
    "\n",
    "# 在这里编写你的代码：\n"
   ]
  },
  {
   "cell_type": "markdown",
   "metadata": {},
   "source": [
    "## 第3章：数组属性\n",
    "\n",
    "### 学习目标\n",
    "- 掌握NumPy数组的重要属性\n",
    "- 理解数组形状、维度、数据类型等概念\n",
    "- 学会查看和修改数组属性\n",
    "\n",
    "### 重要属性\n",
    "- `shape`：数组的形状\n",
    "- `ndim`：数组的维度\n",
    "- `size`：数组的元素总数\n",
    "- `dtype`：数组的数据类型\n",
    "- `itemsize`：每个元素的大小（字节）\n",
    "- `nbytes`：数组的总大小（字节）"
   ]
  },
  {
   "cell_type": "code",
   "execution_count": null,
   "metadata": {},
   "outputs": [],
   "source": [
    "# 任务7：探索数组属性\n",
    "# 要求：\n",
    "# 1. 创建一个3x4的二维数组\n",
    "# 2. 打印该数组的所有属性（shape, ndim, size, dtype, itemsize, nbytes）\n",
    "# 3. 创建一个一维数组，包含10个元素\n",
    "# 4. 比较两个数组的属性差异\n",
    "\n",
    "# 在这里编写你的代码：\n"
   ]
  },
  {
   "cell_type": "code",
   "execution_count": null,
   "metadata": {},
   "outputs": [],
   "source": [
    "# 任务8：数据类型操作\n",
    "# 要求：\n",
    "# 1. 创建一个整数数组，指定数据类型为int32\n",
    "# 2. 创建一个浮点数数组，指定数据类型为float64\n",
    "# 3. 创建一个布尔数组\n",
    "# 4. 尝试改变数组的数据类型\n",
    "\n",
    "# 在这里编写你的代码：\n"
   ]
  },
  {
   "cell_type": "markdown",
   "metadata": {},
   "source": [
    "## 第4章：数组索引和切片\n",
    "\n",
    "### 学习目标\n",
    "- 掌握NumPy数组的基本索引方法\n",
    "- 学会使用切片操作访问数组元素\n",
    "- 理解布尔索引和花式索引\n",
    "\n",
    "### 核心概念\n",
    "- **基本索引**：使用整数索引访问元素\n",
    "- **切片**：使用冒号语法访问子数组\n",
    "- **布尔索引**：使用布尔条件选择元素\n",
    "- **花式索引**：使用整数数组选择元素"
   ]
  },
  {
   "cell_type": "code",
   "execution_count": null,
   "metadata": {},
   "outputs": [],
   "source": [
    "# 任务9：基本索引操作\n",
    "# 要求：\n",
    "# 1. 创建一个3x4的二维数组\n",
    "# 2. 访问第一行的所有元素\n",
    "# 3. 访问第二列的所有元素\n",
    "# 4. 访问第二行第三列的元素\n",
    "# 5. 访问最后一个元素\n",
    "\n",
    "# 在这里编写你的代码：\n"
   ]
  },
  {
   "cell_type": "code",
   "execution_count": null,
   "metadata": {},
   "outputs": [],
   "source": [
    "# 任务10：切片操作\n",
    "# 要求：\n",
    "# 1. 创建一个包含0-15的一维数组\n",
    "# 2. 获取前5个元素\n",
    "# 3. 获取第3到第8个元素\n",
    "# 4. 获取从第2个开始，每隔2个元素\n",
    "# 5. 将数组反转\n",
    "\n",
    "# 在这里编写你的代码：\n"
   ]
  },
  {
   "cell_type": "code",
   "execution_count": null,
   "metadata": {},
   "outputs": [],
   "source": [
    "# 任务11：多维数组切片\n",
    "# 要求：\n",
    "# 1. 创建一个4x5的二维数组\n",
    "# 2. 获取前两行的所有列\n",
    "# 3. 获取所有行的第2-4列\n",
    "# 4. 获取第2-3行的第1-3列\n",
    "# 5. 获取每隔一行的每隔一列\n",
    "\n",
    "# 在这里编写你的代码：\n"
   ]
  },
  {
   "cell_type": "code",
   "execution_count": null,
   "metadata": {},
   "outputs": [],
   "source": [
    "# 任务12：布尔索引\n",
    "# 要求：\n",
    "# 1. 创建一个包含0-20的数组\n",
    "# 2. 选择所有大于10的元素\n",
    "# 3. 选择所有偶数\n",
    "# 4. 选择所有在5-15之间的元素\n",
    "# 5. 选择所有能被3整除的元素\n",
    "\n",
    "# 在这里编写你的代码：\n"
   ]
  },
  {
   "cell_type": "markdown",
   "metadata": {},
   "source": [
    "## 第5章：数组运算\n",
    "\n",
    "### 学习目标\n",
    "- 掌握NumPy数组的基本数学运算\n",
    "- 理解向量化操作的优势\n",
    "- 学会使用比较运算和逻辑运算\n",
    "\n",
    "### 运算类型\n",
    "- **算术运算**：加减乘除、幂运算\n",
    "- **比较运算**：大于、小于、等于等\n",
    "- **逻辑运算**：与、或、非\n",
    "- **统计运算**：求和、均值、标准差等"
   ]
  },
  {
   "cell_type": "code",
   "execution_count": null,
   "metadata": {},
   "outputs": [],
   "source": [
    "# 任务13：基本算术运算\n",
    "# 要求：\n",
    "# 1. 创建两个数组a=[1,2,3,4], b=[5,6,7,8]\n",
    "# 2. 计算两个数组的加、减、乘、除\n",
    "# 3. 计算数组a的平方和立方\n",
    "# 4. 计算数组a的平方根\n",
    "\n",
    "# 在这里编写你的代码：\n"
   ]
  },
  {
   "cell_type": "code",
   "execution_count": null,
   "metadata": {},
   "outputs": [],
   "source": [
    "# 任务14：比较运算\n",
    "# 要求：\n",
    "# 1. 创建两个数组a=[1,2,3,4], b=[4,3,2,1]\n",
    "# 2. 比较两个数组的元素大小（>, <, >=, <=）\n",
    "# 3. 比较两个数组是否相等（==, !=）\n",
    "# 4. 找出数组a中大于2的元素\n",
    "\n",
    "# 在这里编写你的代码：\n"
   ]
  },
  {
   "cell_type": "code",
   "execution_count": null,
   "metadata": {},
   "outputs": [],
   "source": [
    "# 任务15：统计运算\n",
    "# 要求：\n",
    "# 1. 创建一个包含1-10的数组\n",
    "# 2. 计算数组的和、均值、标准差、方差\n",
    "# 3. 找出数组的最小值、最大值及其索引\n",
    "# 4. 计算数组的累积和和累积积\n",
    "\n",
    "# 在这里编写你的代码：\n"
   ]
  },
  {
   "cell_type": "markdown",
   "metadata": {},
   "source": [
    "## 第6章：线性代数运算\n",
    "\n",
    "### 学习目标\n",
    "- 掌握NumPy中的线性代数运算\n",
    "- 理解矩阵运算的概念\n",
    "- 学会使用NumPy的线性代数函数\n",
    "\n",
    "### 重要函数\n",
    "- `np.dot()`：矩阵乘法\n",
    "- `np.matmul()`：矩阵乘法\n",
    "- `np.linalg.inv()`：矩阵求逆\n",
    "- `np.linalg.det()`：行列式\n",
    "- `np.linalg.eig()`：特征值和特征向量"
   ]
  },
  {
   "cell_type": "code",
   "execution_count": null,
   "metadata": {},
   "outputs": [],
   "source": [
    "# 任务16：矩阵乘法\n",
    "# 要求：\n",
    "# 1. 创建两个2x3和3x2的矩阵\n",
    "# 2. 使用np.dot()计算矩阵乘法\n",
    "# 3. 使用@运算符计算矩阵乘法\n",
    "# 4. 比较两种方法的结果\n",
    "\n",
    "# 在这里编写你的代码：\n"
   ]
  },
  {
   "cell_type": "code",
   "execution_count": null,
   "metadata": {},
   "outputs": [],
   "source": [
    "# 任务17：矩阵运算\n",
    "# 要求：\n",
    "# 1. 创建一个2x2的矩阵\n",
    "# 2. 计算矩阵的行列式\n",
    "# 3. 计算矩阵的逆矩阵\n",
    "# 4. 计算矩阵的特征值和特征向量\n",
    "# 5. 验证矩阵与其逆矩阵的乘积是否为单位矩阵\n",
    "\n",
    "# 在这里编写你的代码：\n"
   ]
  },
  {
   "cell_type": "markdown",
   "metadata": {},
   "source": [
    "## 第7章：数组变形\n",
    "\n",
    "### 学习目标\n",
    "- 掌握NumPy数组的变形方法\n",
    "- 学会改变数组的形状和维度\n",
    "- 理解数组转置和轴变换\n",
    "\n",
    "### 核心方法\n",
    "- `reshape()`：改变数组形状\n",
    "- `flatten()`：将数组展平为一维\n",
    "- `ravel()`：将数组展平为一维（返回视图）\n",
    "- `transpose()`：数组转置\n",
    "- `T`：转置属性"
   ]
  },
  {
   "cell_type": "code",
   "execution_count": null,
   "metadata": {},
   "outputs": [],
   "source": [
    "# 任务18：数组变形\n",
    "# 要求：\n",
    "# 1. 创建一个包含1-12的数组\n",
    "# 2. 将其变形为3x4的数组\n",
    "# 3. 将其变形为2x6的数组\n",
    "# 4. 将其变形为4x3的数组\n",
    "# 5. 尝试变形为不可能的形状，观察错误\n",
    "\n",
    "# 在这里编写你的代码：\n"
   ]
  },
  {
   "cell_type": "code",
   "execution_count": null,
   "metadata": {},
   "outputs": [],
   "source": [
    "# 任务19：数组展平\n",
    "# 要求：\n",
    "# 1. 创建一个3x4的二维数组\n",
    "# 2. 使用flatten()将其展平为一维数组\n",
    "# 3. 使用ravel()将其展平为一维数组\n",
    "# 4. 比较两种方法的区别（修改原数组后观察）\n",
    "\n",
    "# 在这里编写你的代码：\n"
   ]
  },
  {
   "cell_type": "code",
   "execution_count": null,
   "metadata": {},
   "outputs": [],
   "source": [
    "# 任务20：数组转置\n",
    "# 要求：\n",
    "# 1. 创建一个3x4的二维数组\n",
    "# 2. 使用T属性进行转置\n",
    "# 3. 使用transpose()函数进行转置\n",
    "# 4. 创建一个3x4x5的三维数组，进行轴变换\n",
    "\n",
    "# 在这里编写你的代码：\n"
   ]
  },
  {
   "cell_type": "markdown",
   "metadata": {},
   "source": [
    "## 第8章：广播机制\n",
    "\n",
    "### 学习目标\n",
    "- 理解NumPy的广播机制\n",
    "- 掌握广播的规则和原理\n",
    "- 学会利用广播进行高效运算\n",
    "\n",
    "### 广播规则\n",
    "1. 从后向前比较每个维度的尺寸\n",
    "2. 维度尺寸相同或其中一个为1时可以广播\n",
    "3. 缺失的维度可以广播\n",
    "4. 广播后会扩展到最大的形状"
   ]
  },
  {
   "cell_type": "code",
   "execution_count": null,
   "metadata": {},
   "outputs": [],
   "source": [
    "# 任务21：标量与数组广播\n",
    "# 要求：\n",
    "# 1. 创建一个3x3的数组\n",
    "# 2. 将数组与标量5进行加法运算\n",
    "# 3. 将数组与标量2进行乘法运算\n",
    "# 4. 观察广播的结果和原理\n",
    "\n",
    "# 在这里编写你的代码：\n"
   ]
  },
  {
   "cell_type": "code",
   "execution_count": null,
   "metadata": {},
   "outputs": [],
   "source": [
    "# 任务22：不同形状数组广播\n",
    "# 要求：\n",
    "# 1. 创建一个3x3的数组A\n",
    "# 2. 创建一个1x3的数组B\n",
    "# 3. 创建一个3x1的数组C\n",
    "# 4. 进行A+B、A+C的运算，观察广播效果\n",
    "# 5. 尝试不能广播的形状组合\n",
    "\n",
    "# 在这里编写你的代码：\n"
   ]
  },
  {
   "cell_type": "markdown",
   "metadata": {},
   "source": [
    "## 第9章：数组连接和分割\n",
    "\n",
    "### 学习目标\n",
    "- 掌握NumPy数组的连接方法\n",
    "- 学会分割数组\n",
    "- 理解不同轴的连接和分割\n",
    "\n",
    "### 重要函数\n",
    "- `np.concatenate()`：连接数组\n",
    "- `np.stack()`：堆叠数组\n",
    "- `np.hstack()`：水平连接\n",
    "- `np.vstack()`：垂直连接\n",
    "- `np.split()`：分割数组"
   ]
  },
  {
   "cell_type": "code",
   "execution_count": null,
   "metadata": {},
   "outputs": [],
   "source": [
    "# 任务23：数组连接\n",
    "# 要求：\n",
    "# 1. 创建两个3x3的数组A和B\n",
    "# 2. 使用concatenate沿轴0连接（垂直连接）\n",
    "# 3. 使用concatenate沿轴1连接（水平连接）\n",
    "# 4. 使用vstack和hstack进行连接\n",
    "# 5. 比较不同连接方法的结果\n",
    "\n",
    "# 在这里编写你的代码：\n"
   ]
  },
  {
   "cell_type": "code",
   "execution_count": null,
   "metadata": {},
   "outputs": [],
   "source": [
    "# 任务24：数组堆叠\n",
    "# 要求：\n",
    "# 1. 创建两个3x3的数组A和B\n",
    "# 2. 使用stack沿新轴堆叠\n",
    "# 3. 使用vstack和hstack堆叠\n",
    "# 4. 使用dstack沿深度方向堆叠\n",
    "# 5. 观察不同堆叠方式的维度变化\n",
    "\n",
    "# 在这里编写你的代码：\n"
   ]
  },
  {
   "cell_type": "code",
   "execution_count": null,
   "metadata": {},
   "outputs": [],
   "source": [
    "# 任务25：数组分割\n",
    "# 要求：\n",
    "# 1. 创建一个包含0-11的数组，变形为3x4\n",
    "# 2. 使用split沿轴0分割成3个子数组\n",
    "# 3. 使用split沿轴1分割成2个子数组\n",
    "# 4. 使用hsplit和vsplit进行分割\n",
    "# 5. 尝试不均匀分割\n",
    "\n",
    "# 在这里编写你的代码：\n"
   ]
  },
  {
   "cell_type": "markdown",
   "metadata": {},
   "source": [
    "## 第10章：文件操作\n",
    "\n",
    "### 学习目标\n",
    "- 掌握NumPy数组的保存和加载方法\n",
    "- 学会读写文本文件\n",
    "- 理解不同文件格式的特点\n",
    "\n",
    "### 重要函数\n",
    "- `np.save()`：保存数组为.npy文件\n",
    "- `np.load()`：加载.npy文件\n",
    "- `np.savetxt()`：保存数组为文本文件\n",
    "- `np.loadtxt()`：加载文本文件"
   ]
  },
  {
   "cell_type": "code",
   "execution_count": null,
   "metadata": {},
   "outputs": [],
   "source": [
    "# 任务26：保存和加载二进制文件\n",
    "# 要求：\n",
    "# 1. 创建一个3x3的随机数组\n",
    "# 2. 使用np.save()保存为.npy文件\n",
    "# 3. 使用np.load()加载保存的文件\n",
    "# 4. 验证加载的数组与原数组是否相同\n",
    "\n",
    "# 在这里编写你的代码：\n"
   ]
  },
  {
   "cell_type": "code",
   "execution_count": null,
   "metadata": {},
   "outputs": [],
   "source": [
    "# 任务27：保存和加载文本文件\n",
    "# 要求：\n",
    "# 1. 创建一个3x3的数组\n",
    "# 2. 使用np.savetxt()保存为.txt文件\n",
    "# 3. 使用np.loadtxt()加载文本文件\n",
    "# 4. 尝试指定不同的分隔符和格式\n",
    "\n",
    "# 在这里编写你的代码：\n"
   ]
  },
  {
   "cell_type": "markdown",
   "metadata": {},
   "source": [
    "## 第11章：实用函数\n",
    "\n",
    "### 学习目标\n",
    "- 掌握NumPy的实用函数\n",
    "- 学会排序和搜索操作\n",
    "- 理解集合操作\n",
    "\n",
    "### 重要函数\n",
    "- `np.sort()`：排序数组\n",
    "- `np.argsort()`：返回排序索引\n",
    "- `np.unique()`：找出唯一值\n",
    "- `np.intersect1d()`：交集\n",
    "- `np.union1d()`：并集"
   ]
  },
  {
   "cell_type": "code",
   "execution_count": null,
   "metadata": {},
   "outputs": [],
   "source": [
    "# 任务28：排序操作\n",
    "# 要求：\n",
    "# 1. 创建一个包含随机数的数组\n",
    "# 2. 使用np.sort()进行排序\n",
    "# 3. 使用np.argsort()获取排序索引\n",
    "# 4. 对二维数组沿不同轴进行排序\n",
    "\n",
    "# 在这里编写你的代码：\n"
   ]
  },
  {
   "cell_type": "code",
   "execution_count": null,
   "metadata": {},
   "outputs": [],
   "source": [
    "# 任务29：唯一值和集合操作\n",
    "# 要求：\n",
    "# 1. 创建一个包含重复元素的数组\n",
    "# 2. 使用np.unique()找出唯一值\n",
    "# 3. 创建两个数组，计算它们的交集\n",
    "# 4. 计算两个数组的并集和差集\n",
    "\n",
    "# 在这里编写你的代码：\n"
   ]
  },
  {
   "cell_type": "markdown",
   "metadata": {},
   "source": [
    "## 第12章：综合实战\n",
    "\n",
    "### 学习目标\n",
    "- 综合运用所学的NumPy知识\n",
    "- 解决实际问题\n",
    "- 提高编程能力\n",
    "\n",
    "### 实战项目\n",
    "1. **数据分析**：使用NumPy处理和分析数据\n",
    "2. **算法实现**：用NumPy实现简单算法\n",
    "3. **性能优化**：比较NumPy和Python循环的性能"
   ]
  },
  {
   "cell_type": "code",
   "execution_count": null,
   "metadata": {},
   "outputs": [],
   "source": [
    "# 任务30：数据分析实战\n",
    "# 要求：\n",
    "# 1. 创建一个包含学生成绩的数组（5个学生，3门课程）\n",
    "# 2. 计算每个学生的总分和平均分\n",
    "# 3. 计算每门课程的平均分和标准差\n",
    "# 4. 找出每门课程的最高分和最低分\n",
    "# 5. 对学生按总分进行排序\n",
    "\n",
    "# 在这里编写你的代码：\n"
   ]
  },
  {
   "cell_type": "code",
   "execution_count": null,
   "metadata": {},
   "outputs": [],
   "source": [
    "# 任务31：线性回归实现\n",
    "# 要求：\n",
    "# 1. 创建一些线性数据（y = 2x + 1 + 噪声）\n",
    "# 2. 使用NumPy实现最小二乘法\n",
    "# 3. 计算斜率和截距\n",
    "# 4. 预测新的x值对应的y值\n",
    "# 5. 计算预测误差\n",
    "\n",
    "# 在这里编写你的代码：\n"
   ]
  },
  {
   "cell_type": "code",
   "execution_count": null,
   "metadata": {},
   "outputs": [],
   "source": [
    "# 任务32：性能对比\n",
    "# 要求：\n",
    "# 1. 创建一个包含100万个元素的数组\n",
    "# 2. 使用NumPy向量化操作计算所有元素的平方\n",
    "# 3. 使用Python循环计算相同操作\n",
    "# 4. 比较两种方法的执行时间\n",
    "# 5. 分析性能差异的原因\n",
    "\n",
    "# 在这里编写你的代码：\n"
   ]
  },
  {
   "cell_type": "markdown",
   "metadata": {},
   "source": [
    "## 总结\n",
    "\n",
    "恭喜你完成了NumPy学习教程！通过本教程，你已经掌握了：\n",
    "\n",
    "### 核心技能\n",
    "- ✅ NumPy基础概念和数组创建\n",
    "- ✅ 数组属性和索引切片\n",
    "- ✅ 数组运算和数学函数\n",
    "- ✅ 线性代数运算\n",
    "- ✅ 数组变形和广播机制\n",
    "- ✅ 数组连接和分割\n",
    "- ✅ 文件操作和实用函数\n",
    "- ✅ 综合实战应用\n",
    "\n",
    "### 下一步学习\n",
    "现在你已经掌握了NumPy的基础，可以继续学习：\n",
    "1. **Pandas**：基于NumPy的数据分析库\n",
    "2. **Matplotlib**：数据可视化库\n",
    "3. **Scikit-learn**：机器学习库\n",
    "4. **深度学习框架**：TensorFlow、PyTorch等\n",
    "\n",
    "### 学习建议\n",
    "- **持续练习**：NumPy需要大量练习才能熟练掌握\n",
    "- **实际应用**：在实际项目中使用NumPy\n",
    "- **深入学习**：探索NumPy的高级功能\n",
    "- **社区参与**：参与NumPy社区，学习最佳实践\n",
    "\n",
    "祝你在机器学习的道路上越走越远！"
   ]
  }
 ],
 "metadata": {
  "kernelspec": {
   "display_name": "Python 3",
   "language": "python",
   "name": "python3"
  },
  "language_info": {
   "codemirror_mode": {
    "name": "ipython",
    "version": 3
   },
   "file_extension": ".py",
   "mimetype": "text/x-python",
   "name": "python",
   "nbconvert_exporter": "python",
   "pygments_lexer": "ipython3",
   "version": "3.8.5"
  }
 },
 "nbformat": 4,
 "nbformat_minor": 4
}
