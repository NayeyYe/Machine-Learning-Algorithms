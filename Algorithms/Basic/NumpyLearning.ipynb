{
 "cells": [
  {
   "cell_type": "markdown",
   "metadata": {},
   "source": [
    "# NumPy 学习教程\n",
    "\n",
    "欢迎来到NumPy学习教程！本教程将按照循序渐进的方式，带你掌握NumPy的核心概念和技能。\n",
    "\n",
    "## 学习目标\n",
    "- 理解NumPy的基础概念和优势\n",
    "- 掌握数组的创建和操作方法\n",
    "- 学会使用NumPy进行数学运算\n",
    "- 理解广播机制和数组变形\n",
    "- 能够应用NumPy解决实际问题\n",
    "\n",
    "## 学习建议\n",
    "1. **动手实践**：每个代码块都要亲自编写和运行\n",
    "2. **理解原理**：不仅要会用，还要理解为什么\n",
    "3. **循序渐进**：确保每个章节都掌握后再进入下一章节\n",
    "4. **多做练习**：尝试用学到的知识解决实际问题"
   ]
  },
  {
   "cell_type": "markdown",
   "metadata": {},
   "source": [
    "## 第1章：NumPy基础概念\n",
    "\n",
    "### 学习目标\n",
    "- 了解什么是NumPy及其重要性\n",
    "- 掌握NumPy的安装和导入方法\n",
    "- 理解NumPy与Python列表的区别\n",
    "\n",
    "### 重要概念\n",
    "- **NumPy**：Python中用于科学计算的核心库\n",
    "- **ndarray**：NumPy的多维数组对象\n",
    "- **向量化操作**：对整个数组进行操作，无需循环\n",
    "- **性能优势**：比Python列表更快的运算速度"
   ]
  },
  {
   "cell_type": "code",
   "execution_count": 6,
   "metadata": {},
   "outputs": [
    {
     "name": "stdout",
     "output_type": "stream",
     "text": [
      "Requirement already satisfied: numpy in d:\\anaconda\\envs\\machinelearning\\lib\\site-packages (2.0.2)\n",
      "Collecting pyyaml\n",
      "  Downloading pyyaml-6.0.3-cp39-cp39-win_amd64.whl.metadata (2.4 kB)\n",
      "Downloading pyyaml-6.0.3-cp39-cp39-win_amd64.whl (158 kB)\n",
      "Installing collected packages: pyyaml\n",
      "Successfully installed pyyaml-6.0.3\n"
     ]
    }
   ],
   "source": [
    "! pip install numpy\n",
    "! pip install pyyaml"
   ]
  },
  {
   "cell_type": "code",
   "execution_count": 7,
   "metadata": {},
   "outputs": [
    {
     "name": "stdout",
     "output_type": "stream",
     "text": [
      "Numpy版本: 2.0.2\n",
      "Build Dependencies:\n",
      "  blas:\n",
      "    detection method: pkgconfig\n",
      "    found: true\n",
      "    include directory: C:/Users/runneradmin/AppData/Local/Temp/cibw-run-vclkdodh/cp39-win_amd64/build/venv/Lib/site-packages/scipy_openblas64/include\n",
      "    lib directory: C:/Users/runneradmin/AppData/Local/Temp/cibw-run-vclkdodh/cp39-win_amd64/build/venv/Lib/site-packages/scipy_openblas64/lib\n",
      "    name: scipy-openblas\n",
      "    openblas configuration: OpenBLAS 0.3.27  USE64BITINT DYNAMIC_ARCH NO_AFFINITY\n",
      "      Zen MAX_THREADS=24\n",
      "    pc file directory: D:/a/numpy/numpy/.openblas\n",
      "    version: 0.3.27\n",
      "  lapack:\n",
      "    detection method: pkgconfig\n",
      "    found: true\n",
      "    include directory: C:/Users/runneradmin/AppData/Local/Temp/cibw-run-vclkdodh/cp39-win_amd64/build/venv/Lib/site-packages/scipy_openblas64/include\n",
      "    lib directory: C:/Users/runneradmin/AppData/Local/Temp/cibw-run-vclkdodh/cp39-win_amd64/build/venv/Lib/site-packages/scipy_openblas64/lib\n",
      "    name: scipy-openblas\n",
      "    openblas configuration: OpenBLAS 0.3.27  USE64BITINT DYNAMIC_ARCH NO_AFFINITY\n",
      "      Zen MAX_THREADS=24\n",
      "    pc file directory: D:/a/numpy/numpy/.openblas\n",
      "    version: 0.3.27\n",
      "Compilers:\n",
      "  c:\n",
      "    commands: cl\n",
      "    linker: link\n",
      "    name: msvc\n",
      "    version: 19.29.30154\n",
      "  c++:\n",
      "    commands: cl\n",
      "    linker: link\n",
      "    name: msvc\n",
      "    version: 19.29.30154\n",
      "  cython:\n",
      "    commands: cython\n",
      "    linker: cython\n",
      "    name: cython\n",
      "    version: 3.0.11\n",
      "Machine Information:\n",
      "  build:\n",
      "    cpu: x86_64\n",
      "    endian: little\n",
      "    family: x86_64\n",
      "    system: windows\n",
      "  host:\n",
      "    cpu: x86_64\n",
      "    endian: little\n",
      "    family: x86_64\n",
      "    system: windows\n",
      "Python Information:\n",
      "  path: C:\\Users\\runneradmin\\AppData\\Local\\Temp\\build-env-le8kd45u\\Scripts\\python.exe\n",
      "  version: '3.9'\n",
      "SIMD Extensions:\n",
      "  baseline:\n",
      "  - SSE\n",
      "  - SSE2\n",
      "  - SSE3\n",
      "  found:\n",
      "  - SSSE3\n",
      "  - SSE41\n",
      "  - POPCNT\n",
      "  - SSE42\n",
      "  - AVX\n",
      "  - F16C\n",
      "  - FMA3\n",
      "  - AVX2\n",
      "  not found:\n",
      "  - AVX512F\n",
      "  - AVX512CD\n",
      "  - AVX512_SKX\n",
      "  - AVX512_CLX\n",
      "  - AVX512_CNL\n",
      "  - AVX512_ICL\n",
      "\n",
      "--------------------------------------------------\n",
      "--------------------------------------------------\n",
      "--------------------------------------------------\n"
     ]
    }
   ],
   "source": [
    "# 任务1：导入NumPy库并检查版本\n",
    "# 要求：\n",
    "# 1. 导入numpy库，使用别名np\n",
    "import numpy as np\n",
    "# 2. 打印NumPy的版本信息\n",
    "print(f\"Numpy版本: {np.__version__}\")\n",
    "# 3. 打印NumPy的配置信息\n",
    "np.show_config()\n",
    "print(\"-\" * 50)\n",
    "np.__config__\n",
    "print(\"-\" * 50)\n",
    "np.get_printoptions()\n",
    "print(\"-\" * 50)\n"
   ]
  },
  {
   "cell_type": "code",
   "execution_count": null,
   "metadata": {},
   "outputs": [
    {
     "name": "stdout",
     "output_type": "stream",
     "text": [
      "数组arr: [1, 2, 3, 4, 5], 类型: <class 'list'>\n",
      "数组arr_np: [1 2 3 4 5], 类型: <class 'numpy.ndarray'>\n",
      "列表arr乘以2的结果: [1, 2, 3, 4, 5, 1, 2, 3, 4, 5], 类型: <class 'list'>\n",
      "数组arr_np乘以2的结果: [ 2  4  6  8 10], 类型: <class 'numpy.ndarray'>\n"
     ]
    }
   ],
   "source": [
    "# 任务2：理解NumPy数组与Python列表的区别\n",
    "# 要求：\n",
    "# 1. 创建一个Python列表，包含数字1-5\n",
    "arr = [i for i in range(1, 6)]\n",
    "print(f\"数组arr: {arr}, 类型: {type(arr)}\")\n",
    "# 2. 创建一个NumPy数组，包含相同的数字\n",
    "arr_np = np.array([i for i in range(1, 6)])\n",
    "print(f\"数组arr_np: {arr_np}, 类型: {type(arr_np)}\")\n",
    "# 3. 对列表和数组分别进行乘法运算，观察区别\n",
    "arr_mult = arr * 2\n",
    "print(f\"列表arr乘以2的结果: {arr_mult}, 类型: {type(arr_mult)}\")\n",
    "arr_np_mult = arr_np * 2\n",
    "print(f\"数组arr_np乘以2的结果: {arr_np_mult}, 类型: {type(arr_np_mult)}\")\n"
   ]
  },
  {
   "cell_type": "markdown",
   "metadata": {},
   "source": [
    "## 第2章：数组创建\n",
    "\n",
    "### 学习目标\n",
    "- 掌握各种创建NumPy数组的方法\n",
    "- 理解不同创建方法的适用场景\n",
    "- 学会创建特殊类型的数组\n",
    "\n",
    "### 核心方法\n",
    "- `np.array()`：从列表创建数组\n",
    "- `np.zeros()`：创建全零数组\n",
    "- `np.ones()`：创建全一数组\n",
    "- `np.arange()`：创建等差数列\n",
    "- `np.linspace()`：创建等间距数列\n",
    "- `np.random.random()`：创建随机数组"
   ]
  },
  {
   "cell_type": "code",
   "execution_count": 33,
   "metadata": {},
   "outputs": [
    {
     "name": "stdout",
     "output_type": "stream",
     "text": [
      "一维数组: \n",
      " [1 2 3 4 5]\n",
      "形状: (5,)\n",
      "维度: 1\n",
      "--------------------------------------------------\n",
      "二维数组: \n",
      "[[1 2 3]\n",
      " [4 5 6]]\n",
      "形状: (2, 3)\n",
      "维度: 2\n",
      "二维数组的行数: 2\n",
      "二维数组的列数: 3\n",
      "二维数组中第1行第2列的元素: 2\n",
      "二维数组的第一行: [1 2 3]\n",
      "--------------------------------------------------\n",
      "三维数组: \n",
      "[[[1 2]\n",
      "  [3 4]]\n",
      "\n",
      " [[5 6]\n",
      "  [7 8]]]\n",
      "形状: (2, 2, 2)\n",
      "维度: 3\n",
      "三维数组中第1层第2行第1列的元素: 3\n",
      "三维数组的第一层: \n",
      "[[1 2]\n",
      " [3 4]]\n",
      "--------------------------------------------------\n"
     ]
    }
   ],
   "source": [
    "# 任务3：从列表创建数组\n",
    "# 要求：\n",
    "# 1. 从一维列表[1,2,3,4,5]创建数组\n",
    "arr_1d = np.array([1, 2, 3, 4, 5])\n",
    "print(f\"一维数组: \\n {arr_1d}\")\n",
    "print(f\"形状: {arr_1d.shape}\")\n",
    "print(f\"维度: {arr_1d.ndim}\")\n",
    "print(\"-\" * 50)\n",
    "# 2.1 从二维列表[[1,2,3],[4,5,6]]创建数组\n",
    "arr_2d = np.array([[1, 2, 3], [4, 5, 6]])\n",
    "print(f\"二维数组: \\n{arr_2d}\")\n",
    "print(f\"形状: {arr_2d.shape}\")\n",
    "print(f\"维度: {arr_2d.ndim}\")\n",
    "# 2.2 查看二维数组的行数和列数\n",
    "rows, cols = arr_2d.shape\n",
    "print(f\"二维数组的行数: {rows}\")\n",
    "print(f\"二维数组的列数: {cols}\")\n",
    "# 2.3 访问二维数组中的元素，例如访问第1行第2列的元素\n",
    "element = arr_2d[0, 1]\n",
    "print(f\"二维数组中第1行第2列的元素: {element}\")\n",
    "# 2.4 访问二维数组的第一行\n",
    "first_row = arr_2d[0, :]\n",
    "print(f\"二维数组的第一行: {first_row}\")\n",
    "print(\"-\" * 50)\n",
    "# 3.1 从三维列表创建一个2x2x2的数组\n",
    "arr_3d = np.array([[[1, 2], [3, 4]], [[5, 6], [7, 8]]])\n",
    "print(f\"三维数组: \\n{arr_3d}\")\n",
    "print(f\"形状: {arr_3d.shape}\")\n",
    "print(f\"维度: {arr_3d.ndim}\")\n",
    "# 3.2 访问三维数组中的元素，例如访问第1层第2行第1列的元素\n",
    "element_3d = arr_3d[0, 1, 0]\n",
    "print(f\"三维数组中第1层第2行第1列的元素: {element_3d}\")\n",
    "# 3.3 访问三维数组的第一层\n",
    "first_layer = arr_3d[0, :, :]\n",
    "print(f\"三维数组的第一层: \\n{first_layer}\")\n",
    "print(\"-\" * 50)\n"
   ]
  },
  {
   "cell_type": "code",
   "execution_count": null,
   "metadata": {},
   "outputs": [
    {
     "name": "stdout",
     "output_type": "stream",
     "text": [
      "3x4的全零数组:\n",
      "[[0. 0. 0. 0.]\n",
      " [0. 0. 0. 0.]\n",
      " [0. 0. 0. 0.]]\n",
      "--------------------------------------------------\n",
      "2x3的全一数组:\n",
      "[[1. 1. 1.]\n",
      " [1. 1. 1.]]\n",
      "--------------------------------------------------\n",
      "3x3的单位矩阵:\n",
      "[[1. 0. 0.]\n",
      " [0. 1. 0.]\n",
      " [0. 0. 1.]]\n",
      "3x3的上对角线单位矩阵:\n",
      "[[0. 0. 1.]\n",
      " [0. 0. 0.]\n",
      " [0. 0. 0.]]\n",
      "2x3的非方阵单位矩阵:\n",
      "[[1. 0. 0.]\n",
      " [0. 1. 0.]]\n",
      "--------------------------------------------------\n",
      "2x2的填充7的数组:\n",
      "[[7 7]\n",
      " [7 7]]\n"
     ]
    }
   ],
   "source": [
    "# 任务4：创建特殊数组\n",
    "# 要求：\n",
    "# 1. 创建一个3x4的全零数组\n",
    "arr_zeros = np.zeros((3, 4))\n",
    "print(f\"3x4的全零数组:\\n{arr_zeros}\")\n",
    "print(\"-\" * 50)\n",
    "# 2. 创建一个2x3的全一数组\n",
    "arr_ones = np.ones((2, 3))\n",
    "print(f\"2x3的全一数组:\\n{arr_ones}\")\n",
    "print(\"-\" * 50)\n",
    "# 3.1 创建一个3x3的单位矩阵\n",
    "arr_eye = np.eye(3)\n",
    "print(f\"3x3的单位矩阵:\\n{arr_eye}\")\n",
    "# 3.2 上2维对角线为1的矩阵\n",
    "arr_eye_up = np.eye(3, k=2)  # k=1表示上对角线，k=-1表示下对角线\n",
    "print(f\"3x3的上对角线单位矩阵:\\n{arr_eye_up}\")\n",
    "# 3.3 非方阵的单位矩阵\n",
    "arr_eye_non_square = np.eye(2, 3)\n",
    "print(f\"2x3的非方阵单位矩阵:\\n{arr_eye_non_square}\")\n",
    "print(\"-\" * 50)\n",
    "# 4. 创建一个2x2的填充7的数组\n",
    "arr_full = np.full((2, 2), 7)\n",
    "print(f\"2x2的填充7的数组:\\n{arr_full}\")"
   ]
  },
  {
   "cell_type": "code",
   "execution_count": null,
   "metadata": {},
   "outputs": [
    {
     "name": "stdout",
     "output_type": "stream",
     "text": [
      "使用arange创建的数组(0-10, 步长2): \n",
      " [1 3 5 7 9]\n",
      "类型: <class 'numpy.ndarray'>\n",
      "--------------------------------------------------\n",
      "使用arange创建的递减数组(10-0): \n",
      " [10  9  8  7  6  5  4  3  2  1]\n",
      "使用linspace创建的数组(0-1之间的5个等间距数): \n",
      " [0.   0.25 0.5  0.75 1.  ]\n",
      "类型: <class 'numpy.ndarray'>\n",
      "--------------------------------------------------\n",
      "使用linspace创建的数组(0-2π之间的10个等间距数): \n",
      " [0.        0.6981317 1.3962634 2.0943952 2.7925267 3.4906585 4.1887903\n",
      " 4.886922  5.5850534 6.2831855]\n"
     ]
    }
   ],
   "source": [
    "# 任务5：创建序列数组\n",
    "# 要求：\n",
    "# 1.1 使用arange创建1-10的数组，步长为2\n",
    "arr_arange = np.arange(1, 11, 2)\n",
    "print(f\"使用arange创建的数组(0-10, 步长2): \\n {arr_arange}\")\n",
    "print(f\"类型: {type(arr_arange)}\")\n",
    "print(\"-\" * 50)\n",
    "# 2. 使用arange创建10-1的递减数组\n",
    "arr_arange_dec = np.arange(10, 0, -1)\n",
    "print(f\"使用arange创建的递减数组(10-0): \\n {arr_arange_dec}\")\n",
    "# 3. 使用linspace创建0-1之间的5个等间距数\n",
    "arr_linspace_0_1 = np.linspace(0, 1, 5)\n",
    "print(f\"使用linspace创建的数组(0-1之间的5个等间距数): \\n {arr_linspace_0_1}\")\n",
    "print(f\"类型: {type(arr_linspace_0_1)}\")\n",
    "print(\"-\" * 50)\n",
    "# 4. 使用linspace创建0-2π之间的10个等间距数\n",
    "arr_linspace_0_2pi = np.linspace(0, 2 * np.pi, 10)\n",
    "print(f\"使用linspace创建的数组(0-2π之间的10个等间距数): \\n {arr_linspace_0_2pi}\")\n"
   ]
  },
  {
   "cell_type": "code",
   "execution_count": 113,
   "metadata": {},
   "outputs": [
    {
     "name": "stdout",
     "output_type": "stream",
     "text": [
      "2x3的随机数组(0-1之间), 使用rand: \n",
      " [[0.15601864 0.15599452 0.05808361]\n",
      " [0.86617615 0.60111501 0.70807258]]\n",
      "2x3的随机数组(0-1之间), 使用random: \n",
      " [[0.02058449 0.96990985 0.83244264]\n",
      " [0.21233911 0.18182497 0.18340451]]\n",
      "--------------------------------------------------\n",
      "3x3的随机整数数组(0-10之间): \n",
      " [[9 5 8]\n",
      " [0 9 2]\n",
      " [6 3 8]]\n",
      "--------------------------------------------------\n",
      "1维符合正态分布的随机数组: \n",
      "[ 0.12221917 -0.51543566 -0.60025385  0.94743982  0.291034   -0.63555974\n",
      " -1.02155219 -0.16175539 -0.5336488  -0.00552786]\n",
      "数组的平均值: -0.21130405121772355\n",
      "数组的标准差: 0.5417791609589815\n",
      "两个数组每个元素是否相同: [[ True  True]\n",
      " [ True  True]]\n",
      "两个数组是否相同: True\n"
     ]
    }
   ],
   "source": [
    "# 任务6：创建随机数组\n",
    "# 要求：\n",
    "# 1. 创建一个2x3的随机数组（0-1之间）\n",
    "arr_random_rand = np.random.rand(2, 3)\n",
    "arr_random_random = np.random.random(size=(2, 3))\n",
    "print(f\"2x3的随机数组(0-1之间), 使用rand: \\n {arr_random_rand}\")\n",
    "print(f\"2x3的随机数组(0-1之间), 使用random: \\n {arr_random_random}\")\n",
    "print(\"-\" * 50)\n",
    "# 2. 创建一个3x3的随机整数数组（0-10之间）\n",
    "arr_random_int = np.random.randint(0, 10, (3, 3))\n",
    "print(f\"3x3的随机整数数组(0-10之间): \\n {arr_random_int}\")\n",
    "print(\"-\" * 50)\n",
    "# 3. 创建一个符合正态分布的随机数组（均值0，标准差1）\n",
    "arr_random_randn = np.random.randn(10)\n",
    "average_arr = arr_random_randn.sum() / arr_random_randn.shape[0]\n",
    "std_arr = arr_random_randn.std()\n",
    "print(f\"1维符合正态分布的随机数组: \\n{arr_random_randn}\")\n",
    "print(f\"数组的平均值: {average_arr}\")\n",
    "print(f\"数组的标准差: {std_arr}\")\n",
    "# 4. 设置随机种子为42，然后创建一个2x2的随机数组\n",
    "np.random.seed(42)\n",
    "arr_random_seed_1 = np.random.random(size=(2, 2))\n",
    "np.random.seed(42)\n",
    "arr_random_seed_2 = np.random.random(size=(2, 2))\n",
    "print(f\"两个数组每个元素是否相同: {arr_random_seed_1 == arr_random_seed_2}\")\n",
    "print(f\"两个数组是否相同: {np.array_equal(arr_random_seed_1, arr_random_seed_2)}\")"
   ]
  },
  {
   "cell_type": "markdown",
   "metadata": {},
   "source": [
    "## 第3章：数组属性\n",
    "\n",
    "### 学习目标\n",
    "- 掌握NumPy数组的重要属性\n",
    "- 理解数组形状、维度、数据类型等概念\n",
    "- 学会查看和修改数组属性\n",
    "\n",
    "### 重要属性\n",
    "- `shape`：数组的形状\n",
    "- `ndim`：数组的维度\n",
    "- `size`：数组的元素总数\n",
    "- `dtype`：数组的数据类型\n",
    "- `itemsize`：每个元素的大小（字节）\n",
    "- `nbytes`：数组的总大小（字节）"
   ]
  },
  {
   "cell_type": "code",
   "execution_count": 126,
   "metadata": {},
   "outputs": [
    {
     "name": "stdout",
     "output_type": "stream",
     "text": [
      "数组为: \n",
      " [[0.05147875 0.27864646 0.90826589 0.23956189]\n",
      " [0.14489487 0.48945276 0.98565045 0.24205527]\n",
      " [0.67213555 0.76161962 0.23763754 0.72821635]]\n",
      "数组的形状shape为: (3, 4)\n",
      "数组的维度ndim为: 2\n",
      "数组的元素总数size: 12\n",
      "数组中数据类型dtype: float64\n",
      "数组中每个元素的大小itemsize: 8\n",
      "数组总大小nbytes(字节): 96\n",
      "1维10数据数组: \n",
      "[0.         0.11111111 0.22222222 0.33333333 0.44444444 0.55555556\n",
      " 0.66666667 0.77777778 0.88888889 1.        ]\n"
     ]
    }
   ],
   "source": [
    "# 任务7：探索数组属性\n",
    "# 要求：\n",
    "# 1. 创建一个3x4的二维数组\n",
    "arr = np.random.random(size=(3, 4))\n",
    "print(f\"数组为: \\n {arr}\")\n",
    "# 2. 打印该数组的所有属性（shape, ndim, size, dtype, itemsize, nbytes）\n",
    "print(f\"数组的形状shape为: {arr.shape}\")\n",
    "print(f\"数组的维度ndim为: {arr.ndim}\")\n",
    "print(f\"数组的元素总数size: {arr.size}\")\n",
    "print(f\"数组中数据类型dtype: {arr.dtype}\")\n",
    "print(f\"数组中每个元素的大小itemsize: {arr.itemsize}\")\n",
    "print(f\"数组总大小nbytes(字节): {arr.nbytes}\")\n",
    "# 3. 创建一个一维数组，包含10个元素\n",
    "arr_1d = np.linspace(0, 1, 10)\n",
    "print(f\"1维10数据数组: \\n{arr_1d}\")\n",
    "# 4. 比较两个数组的属性差异\n",
    "\n",
    "# 在这里编写你的代码：\n"
   ]
  },
  {
   "cell_type": "code",
   "execution_count": null,
   "metadata": {},
   "outputs": [
    {
     "name": "stdout",
     "output_type": "stream",
     "text": [
      "数据类型位int的数组为: \n",
      "[ 1  2  3  4  5  6  7  8  9 11]\n",
      "数据类型位float的数组为: \n",
      "[0.     0.1111 0.2222 0.3333 0.4443 0.5557 0.6665 0.778  0.8887 1.    ]\n",
      "如果arr_int中的值大于5就为True, 得到布尔数组: \n",
      "[False False False False False  True  True  True  True  True]\n",
      "把np.float16类型改成np.int8类型: \n",
      " [0 0 0 0 0 0 0 0 0 1]\n",
      "数据类型为: int8\n"
     ]
    }
   ],
   "source": [
    "# 任务8：数据类型操作\n",
    "# 要求：\n",
    "# 1. 创建一个整数数组，指定数据类型为np.int8\n",
    "arr_int = np.linspace(start=1, stop=11, num=10, dtype=np.int8)\n",
    "print(f\"数据类型位int的数组为: \\n{arr_int}\")\n",
    "# 2. 创建一个浮点数数组，指定数据类型为np.float16\n",
    "arr_float = np.linspace(start=0, stop=1, num=10, dtype=np.float16)\n",
    "print(f\"数据类型位float的数组为: \\n{arr_float}\")\n",
    "# 3. 创建一个布尔数组\n",
    "arr_bool = arr_int > 5\n",
    "print(f\"如果arr_int中的值大于5就为True, 得到布尔数组: \\n{arr_bool}\")\n",
    "# 4. 尝试改变数组的数据类型\n",
    "arr_float_to_int = arr_float.astype(np.int8)\n",
    "print(f\"把np.float16类型改成np.int8类型: \\n {arr_float_to_int}\")\n",
    "print(f\"数据类型为: {arr_float_to_int.dtype}\")\n"
   ]
  },
  {
   "cell_type": "markdown",
   "metadata": {},
   "source": [
    "## 第4章：数组索引和切片\n",
    "\n",
    "### 学习目标\n",
    "- 掌握NumPy数组的基本索引方法\n",
    "- 学会使用切片操作访问数组元素\n",
    "- 理解布尔索引和花式索引\n",
    "\n",
    "### 核心概念\n",
    "- **基本索引**：使用整数索引访问元素\n",
    "- **切片**：使用冒号语法访问子数组\n",
    "- **布尔索引**：使用布尔条件选择元素\n",
    "- **花式索引**：使用整数数组选择元素"
   ]
  },
  {
   "cell_type": "code",
   "execution_count": null,
   "metadata": {},
   "outputs": [
    {
     "name": "stdout",
     "output_type": "stream",
     "text": [
      "数组为: \n",
      "[[0.25794163 0.65998405 0.8172222  0.55520081]\n",
      " [0.52965058 0.24185229 0.09310277 0.89721576]\n",
      " [0.90041806 0.63310146 0.33902979 0.34920957]]\n",
      "第一行所有元素为: \n",
      "[0.25794163 0.65998405 0.8172222  0.55520081]\n",
      "第二列所有元素: \n",
      "[0.65998405 0.24185229 0.63310146]\n",
      "第二行第三列元素: \n",
      "0.09310276780589921\n",
      "最后一个元素: 0.3492095746126609\n"
     ]
    }
   ],
   "source": [
    "# 任务9：基本索引操作\n",
    "# 要求：\n",
    "# 1. 创建一个3x4的二维数组\n",
    "arr = np.random.random(size=(3, 4))\n",
    "print(f\"数组为: \\n{arr}\")\n",
    "# 2. 访问第一行的所有元素\n",
    "arr_row1 = arr[0, :]\n",
    "print(f\"第一行所有元素为: \\n{arr_row1}\")\n",
    "# 3. 访问第二列的所有元素\n",
    "arr_col2 = arr[:, 1]\n",
    "print(f\"第二列所有元素: \\n{arr_col2}\")\n",
    "# 4. 访问第二行第三列的元素\n",
    "arr_row2_col3 = arr[1, 2]\n",
    "print(f\"第二行第三列元素: \\n{arr_row2_col3}\")\n",
    "# 5. 访问最后一个元素\n",
    "arr_last = arr[-1, -1]\n",
    "print(f\"最后一个元素: {arr_last}\")"
   ]
  },
  {
   "cell_type": "code",
   "execution_count": 155,
   "metadata": {},
   "outputs": [
    {
     "name": "stdout",
     "output_type": "stream",
     "text": [
      "数组为: \n",
      " [ 0  1  2  3  4  5  6  7  8  9 10 11 12 13 14 15]\n",
      "前5个元素为: [0 1 2 3 4]\n",
      "获取第3到第8个元素: [2 3 4 5 6 7]\n",
      "[ 2  4  6  8 10 12 14]\n",
      "反转数组: [15 14 13 12 11 10  9  8  7  6  5  4  3  2  1  0]\n"
     ]
    }
   ],
   "source": [
    "# 任务10：切片操作\n",
    "# 要求：\n",
    "# 1. 创建一个包含0-15的一维数组\n",
    "arr = np.arange(start=0, stop=16, step=1)\n",
    "print(f\"数组为: \\n {arr}\")\n",
    "# 2. 获取前5个元素\n",
    "arr_first5 = arr[0:5]\n",
    "print(f\"前5个元素为: {arr_first5}\")\n",
    "# 3. 获取第3到第8个元素\n",
    "arr_3_to_8 = arr[2:8]\n",
    "print(f\"获取第3到第8个元素: {arr_3_to_8}\")\n",
    "# 4. 获取从第2个开始，每隔2个元素\n",
    "arr_2_to_last = arr[2::2]\n",
    "print(arr_2_to_last)\n",
    "# 5. 将数组反转\n",
    "print(f\"反转数组: {arr[::-1]}\")\n",
    "# 在这里编写你的代码：\n"
   ]
  },
  {
   "cell_type": "code",
   "execution_count": null,
   "metadata": {},
   "outputs": [
    {
     "name": "stdout",
     "output_type": "stream",
     "text": [
      "创建数组: \n",
      "[[0.3253997  0.74649141 0.6496329  0.84922341 0.65761289]\n",
      " [0.5683086  0.09367477 0.3677158  0.26520237 0.24398964]\n",
      " [0.97301055 0.39309772 0.89204656 0.63113863 0.7948113 ]\n",
      " [0.50263709 0.57690388 0.49251769 0.19524299 0.72245212]]\n",
      "前两行的数组: \n",
      " [[0.3253997  0.74649141 0.6496329  0.84922341 0.65761289]\n",
      " [0.5683086  0.09367477 0.3677158  0.26520237 0.24398964]]\n"
     ]
    }
   ],
   "source": [
    "# 任务11：多维数组切片\n",
    "# 要求：\n",
    "# 1. 创建一个4x5的二维数组\n",
    "arr = np.random.random(size=(4, 5))\n",
    "print(f\"创建数组: \\n{arr}\")\n",
    "# 2. 获取前两行的所有列\n",
    "arr_col0to1 = arr[0:2, ]\n",
    "print(f\"前两行的数组: \\n {arr_col0to1}\")\n",
    "# 3. 获取所有行的第2-4列\n",
    "\n",
    "# 4. 获取第2-3行的第1-3列\n",
    "# 5. 获取每隔一行的每隔一列\n",
    "\n",
    "# 在这里编写你的代码：\n"
   ]
  },
  {
   "cell_type": "code",
   "execution_count": 169,
   "metadata": {},
   "outputs": [
    {
     "name": "stdout",
     "output_type": "stream",
     "text": [
      "0-20的数组: \n",
      " [ 0  1  2  3  4  5  6  7  8  9 10 11 12 13 14 15 16 17 18 19 20]\n",
      "所有大于10的元素: \n",
      "[11 12 13 14 15 16 17 18 19 20]\n",
      "偶数数组: \n",
      "[ 0  2  4  6  8 10 12 14 16 18 20]\n",
      "5-15的所有元素: \n",
      "[ 5  6  7  8  9 10 11 12 13 14 15]\n",
      "可以被3整除的数组: \n",
      "[ 0  3  6  9 12 15 18]\n"
     ]
    }
   ],
   "source": [
    "# 任务12：布尔索引\n",
    "# 要求：\n",
    "# 1. 创建一个包含0-20的数组\n",
    "arr = np.arange(0, 21, step=1)\n",
    "print(f\"0-20的数组: \\n {arr}\")\n",
    "# 2. 选择所有大于10的元素\n",
    "arr_geq_10 = arr[arr > 10]\n",
    "print(f\"所有大于10的元素: \\n{arr_geq_10}\")\n",
    "# 3. 选择所有偶数\n",
    "arr_odds = arr[arr % 2 == 0]\n",
    "print(f\"偶数数组: \\n{arr_odds}\")\n",
    "# 4. 选择所有在5-15之间的元素\n",
    "arr_5_to_15 = arr[(arr >= 5) & (arr <= 15)]\n",
    "print(f\"5-15的所有元素: \\n{arr_5_to_15}\")\n",
    "# 5. 选择所有能被3整除的元素\n",
    "arr_mod3 = arr[arr % 3 == 0]\n",
    "print(f\"可以被3整除的数组: \\n{arr_mod3}\")"
   ]
  },
  {
   "cell_type": "markdown",
   "metadata": {},
   "source": [
    "## 第5章：数组运算\n",
    "\n",
    "### 学习目标\n",
    "- 掌握NumPy数组的基本数学运算\n",
    "- 理解向量化操作的优势\n",
    "- 学会使用比较运算和逻辑运算\n",
    "\n",
    "### 运算类型\n",
    "- **算术运算**：加减乘除、幂运算\n",
    "- **比较运算**：大于、小于、等于等\n",
    "- **逻辑运算**：与、或、非\n",
    "- **统计运算**：求和、均值、标准差等"
   ]
  },
  {
   "cell_type": "code",
   "execution_count": null,
   "metadata": {},
   "outputs": [
    {
     "name": "stdout",
     "output_type": "stream",
     "text": [
      "加法: [ 6  8 10 12]\n",
      "减法: [-4 -4 -4 -4]\n",
      "乘法: [ 5 12 21 32]\n",
      "除法: [0.2        0.33333333 0.42857143 0.5       ]\n",
      "a的平方:[ 1  4  9 16]\n",
      "a的平方根: [1.         1.41421356 1.73205081 2.        ]\n"
     ]
    }
   ],
   "source": [
    "# 任务13：基本算术运算\n",
    "# 要求：\n",
    "# 1. 创建两个数组a=[1,2,3,4], b=[5,6,7,8]\n",
    "a = np.array([1, 2, 3, 4])\n",
    "b = np.array([5, 6, 7, 8])\n",
    "# 2. 计算两个数组的加、减、乘、除\n",
    "print(f\"加法: {a + b}\")\n",
    "print(f\"减法: {a - b}\")\n",
    "print(f\"乘法: {a * b}\")\n",
    "print(f\"除法: {a / b}\")\n",
    "# 3. 计算数组a的平方\n",
    "print(f\"a的平方:{a**2}\")\n",
    "# 4. 计算数组a的平方根\n",
    "print(f\"a的平方根: {a**0.5}\")"
   ]
  },
  {
   "cell_type": "code",
   "execution_count": null,
   "metadata": {},
   "outputs": [
    {
     "name": "stdout",
     "output_type": "stream",
     "text": [
      "数组的每个元素是否相同: [False False False False]\n"
     ]
    }
   ],
   "source": [
    "# 任务14：比较运算\n",
    "# 要求：\n",
    "# 1. 创建两个数组a=[1,2,3,4], b=[4,3,2,1]\n",
    "a = np.array([1, 2, 3, 4])\n",
    "b = np.array([4, 3, 2, 1])\n",
    "# 2. 比较两个数组的元素是否相同\n",
    "print(f\"数组的每个元素是否相同: {a == b}\")"
   ]
  },
  {
   "cell_type": "code",
   "execution_count": null,
   "metadata": {},
   "outputs": [
    {
     "name": "stdout",
     "output_type": "stream",
     "text": [
      "数组为:\n",
      " [2 2 7 6 3]\n",
      "和为:20\n",
      "均值为: 4.0\n",
      "标准差为: 2.0976176963403033\n",
      "方差为: 4.4\n",
      "数组最小值为:2, 索引为0\n",
      "数组最大值为: 7, 索引为2\n",
      "累积和: [ 2  4 11 17 20]\n",
      "累积积: [  2   4  28 168 504]\n"
     ]
    }
   ],
   "source": [
    "# 任务15：统计运算\n",
    "# 要求：\n",
    "# 1. 创建一个包含1-10的数组\n",
    "arr = np.random.randint(low=1, high=10, size=(5,))\n",
    "print(f\"数组为:\\n {arr}\")\n",
    "# 2. 计算数组的和、均值、标准差、方差\n",
    "print(f\"和为:{arr.sum()}\")\n",
    "print(f\"均值为: {arr.mean()}\")\n",
    "print(f\"标准差为: {arr.std()}\")\n",
    "print(f\"方差为: {arr.var()}\")\n",
    "# 3. 找出数组的最小值、最大值及其索引\n",
    "print(f\"数组最小值为:{arr.min()}, 索引为{arr.argmin()}\")\n",
    "print(f\"数组最大值为: {arr.max()}, 索引为{arr.argmax()}\")\n",
    "# 4. 计算数组的累积和和累积积\n",
    "print(f\"累积和: {arr.cumsum()}\")\n",
    "print(f\"累积积: {arr.cumprod()}\")"
   ]
  },
  {
   "cell_type": "markdown",
   "metadata": {},
   "source": [
    "## 第6章：线性代数运算\n",
    "\n",
    "### 学习目标\n",
    "- 掌握NumPy中的线性代数运算\n",
    "- 理解矩阵运算的概念\n",
    "- 学会使用NumPy的线性代数函数\n",
    "\n",
    "### 重要函数\n",
    "- `np.dot()`：矩阵乘法\n",
    "- `np.matmul()`：矩阵乘法\n",
    "- `np.linalg.inv()`：矩阵求逆\n",
    "- `np.linalg.det()`：行列式\n",
    "- `np.linalg.eig()`：特征值和特征向量"
   ]
  },
  {
   "cell_type": "code",
   "execution_count": null,
   "metadata": {},
   "outputs": [],
   "source": [
    "# 任务16：矩阵乘法\n",
    "# 要求：\n",
    "# 1. 创建两个2x3和3x2的矩阵\n",
    "# 2. 使用np.dot()计算矩阵乘法\n",
    "# 3. 使用@运算符计算矩阵乘法\n",
    "# 4. 比较两种方法的结果\n",
    "\n",
    "# 在这里编写你的代码：\n"
   ]
  },
  {
   "cell_type": "code",
   "execution_count": null,
   "metadata": {},
   "outputs": [],
   "source": [
    "# 任务17：矩阵运算\n",
    "# 要求：\n",
    "# 1. 创建一个2x2的矩阵\n",
    "# 2. 计算矩阵的行列式\n",
    "# 3. 计算矩阵的逆矩阵\n",
    "# 4. 计算矩阵的特征值和特征向量\n",
    "# 5. 验证矩阵与其逆矩阵的乘积是否为单位矩阵\n",
    "\n",
    "# 在这里编写你的代码：\n"
   ]
  },
  {
   "cell_type": "markdown",
   "metadata": {},
   "source": [
    "## 第7章：数组变形\n",
    "\n",
    "### 学习目标\n",
    "- 掌握NumPy数组的变形方法\n",
    "- 学会改变数组的形状和维度\n",
    "- 理解数组转置和轴变换\n",
    "\n",
    "### 核心方法\n",
    "- `reshape()`：改变数组形状\n",
    "- `flatten()`：将数组展平为一维\n",
    "- `ravel()`：将数组展平为一维（返回视图）\n",
    "- `transpose()`：数组转置\n",
    "- `T`：转置属性"
   ]
  },
  {
   "cell_type": "code",
   "execution_count": null,
   "metadata": {},
   "outputs": [],
   "source": [
    "# 任务18：数组变形\n",
    "# 要求：\n",
    "# 1. 创建一个包含1-12的数组\n",
    "# 2. 将其变形为3x4的数组\n",
    "# 3. 将其变形为2x6的数组\n",
    "# 4. 将其变形为4x3的数组\n",
    "# 5. 尝试变形为不可能的形状，观察错误\n",
    "\n",
    "# 在这里编写你的代码：\n"
   ]
  },
  {
   "cell_type": "code",
   "execution_count": null,
   "metadata": {},
   "outputs": [],
   "source": [
    "# 任务19：数组展平\n",
    "# 要求：\n",
    "# 1. 创建一个3x4的二维数组\n",
    "# 2. 使用flatten()将其展平为一维数组\n",
    "# 3. 使用ravel()将其展平为一维数组\n",
    "# 4. 比较两种方法的区别（修改原数组后观察）\n",
    "\n",
    "# 在这里编写你的代码：\n"
   ]
  },
  {
   "cell_type": "code",
   "execution_count": null,
   "metadata": {},
   "outputs": [],
   "source": [
    "# 任务20：数组转置\n",
    "# 要求：\n",
    "# 1. 创建一个3x4的二维数组\n",
    "# 2. 使用T属性进行转置\n",
    "# 3. 使用transpose()函数进行转置\n",
    "# 4. 创建一个3x4x5的三维数组，进行轴变换\n",
    "\n",
    "# 在这里编写你的代码：\n"
   ]
  },
  {
   "cell_type": "markdown",
   "metadata": {},
   "source": [
    "## 第8章：广播机制\n",
    "\n",
    "### 学习目标\n",
    "- 理解NumPy的广播机制\n",
    "- 掌握广播的规则和原理\n",
    "- 学会利用广播进行高效运算\n",
    "\n",
    "### 广播规则\n",
    "1. 从后向前比较每个维度的尺寸\n",
    "2. 维度尺寸相同或其中一个为1时可以广播\n",
    "3. 缺失的维度可以广播\n",
    "4. 广播后会扩展到最大的形状"
   ]
  },
  {
   "cell_type": "code",
   "execution_count": null,
   "metadata": {},
   "outputs": [],
   "source": [
    "# 任务21：标量与数组广播\n",
    "# 要求：\n",
    "# 1. 创建一个3x3的数组\n",
    "# 2. 将数组与标量5进行加法运算\n",
    "# 3. 将数组与标量2进行乘法运算\n",
    "# 4. 观察广播的结果和原理\n",
    "\n",
    "# 在这里编写你的代码：\n"
   ]
  },
  {
   "cell_type": "code",
   "execution_count": null,
   "metadata": {},
   "outputs": [],
   "source": [
    "# 任务22：不同形状数组广播\n",
    "# 要求：\n",
    "# 1. 创建一个3x3的数组A\n",
    "# 2. 创建一个1x3的数组B\n",
    "# 3. 创建一个3x1的数组C\n",
    "# 4. 进行A+B、A+C的运算，观察广播效果\n",
    "# 5. 尝试不能广播的形状组合\n",
    "\n",
    "# 在这里编写你的代码：\n"
   ]
  },
  {
   "cell_type": "markdown",
   "metadata": {},
   "source": [
    "## 第9章：数组连接和分割\n",
    "\n",
    "### 学习目标\n",
    "- 掌握NumPy数组的连接方法\n",
    "- 学会分割数组\n",
    "- 理解不同轴的连接和分割\n",
    "\n",
    "### 重要函数\n",
    "- `np.concatenate()`：连接数组\n",
    "- `np.stack()`：堆叠数组\n",
    "- `np.hstack()`：水平连接\n",
    "- `np.vstack()`：垂直连接\n",
    "- `np.split()`：分割数组"
   ]
  },
  {
   "cell_type": "code",
   "execution_count": null,
   "metadata": {},
   "outputs": [],
   "source": [
    "# 任务23：数组连接\n",
    "# 要求：\n",
    "# 1. 创建两个3x3的数组A和B\n",
    "# 2. 使用concatenate沿轴0连接（垂直连接）\n",
    "# 3. 使用concatenate沿轴1连接（水平连接）\n",
    "# 4. 使用vstack和hstack进行连接\n",
    "# 5. 比较不同连接方法的结果\n",
    "\n",
    "# 在这里编写你的代码：\n"
   ]
  },
  {
   "cell_type": "code",
   "execution_count": null,
   "metadata": {},
   "outputs": [],
   "source": [
    "# 任务24：数组堆叠\n",
    "# 要求：\n",
    "# 1. 创建两个3x3的数组A和B\n",
    "# 2. 使用stack沿新轴堆叠\n",
    "# 3. 使用vstack和hstack堆叠\n",
    "# 4. 使用dstack沿深度方向堆叠\n",
    "# 5. 观察不同堆叠方式的维度变化\n",
    "\n",
    "# 在这里编写你的代码：\n"
   ]
  },
  {
   "cell_type": "code",
   "execution_count": null,
   "metadata": {},
   "outputs": [],
   "source": [
    "# 任务25：数组分割\n",
    "# 要求：\n",
    "# 1. 创建一个包含0-11的数组，变形为3x4\n",
    "# 2. 使用split沿轴0分割成3个子数组\n",
    "# 3. 使用split沿轴1分割成2个子数组\n",
    "# 4. 使用hsplit和vsplit进行分割\n",
    "# 5. 尝试不均匀分割\n",
    "\n",
    "# 在这里编写你的代码：\n"
   ]
  },
  {
   "cell_type": "markdown",
   "metadata": {},
   "source": [
    "## 第10章：文件操作\n",
    "\n",
    "### 学习目标\n",
    "- 掌握NumPy数组的保存和加载方法\n",
    "- 学会读写文本文件\n",
    "- 理解不同文件格式的特点\n",
    "\n",
    "### 重要函数\n",
    "- `np.save()`：保存数组为.npy文件\n",
    "- `np.load()`：加载.npy文件\n",
    "- `np.savetxt()`：保存数组为文本文件\n",
    "- `np.loadtxt()`：加载文本文件"
   ]
  },
  {
   "cell_type": "code",
   "execution_count": null,
   "metadata": {},
   "outputs": [],
   "source": [
    "# 任务26：保存和加载二进制文件\n",
    "# 要求：\n",
    "# 1. 创建一个3x3的随机数组\n",
    "# 2. 使用np.save()保存为.npy文件\n",
    "# 3. 使用np.load()加载保存的文件\n",
    "# 4. 验证加载的数组与原数组是否相同\n",
    "\n",
    "# 在这里编写你的代码：\n"
   ]
  },
  {
   "cell_type": "code",
   "execution_count": null,
   "metadata": {},
   "outputs": [],
   "source": [
    "# 任务27：保存和加载文本文件\n",
    "# 要求：\n",
    "# 1. 创建一个3x3的数组\n",
    "# 2. 使用np.savetxt()保存为.txt文件\n",
    "# 3. 使用np.loadtxt()加载文本文件\n",
    "# 4. 尝试指定不同的分隔符和格式\n",
    "\n",
    "# 在这里编写你的代码：\n"
   ]
  },
  {
   "cell_type": "markdown",
   "metadata": {},
   "source": [
    "## 第11章：实用函数\n",
    "\n",
    "### 学习目标\n",
    "- 掌握NumPy的实用函数\n",
    "- 学会排序和搜索操作\n",
    "- 理解集合操作\n",
    "\n",
    "### 重要函数\n",
    "- `np.sort()`：排序数组\n",
    "- `np.argsort()`：返回排序索引\n",
    "- `np.unique()`：找出唯一值\n",
    "- `np.intersect1d()`：交集\n",
    "- `np.union1d()`：并集"
   ]
  },
  {
   "cell_type": "code",
   "execution_count": null,
   "metadata": {},
   "outputs": [],
   "source": [
    "# 任务28：排序操作\n",
    "# 要求：\n",
    "# 1. 创建一个包含随机数的数组\n",
    "# 2. 使用np.sort()进行排序\n",
    "# 3. 使用np.argsort()获取排序索引\n",
    "# 4. 对二维数组沿不同轴进行排序\n",
    "\n",
    "# 在这里编写你的代码：\n"
   ]
  },
  {
   "cell_type": "code",
   "execution_count": null,
   "metadata": {},
   "outputs": [],
   "source": [
    "# 任务29：唯一值和集合操作\n",
    "# 要求：\n",
    "# 1. 创建一个包含重复元素的数组\n",
    "# 2. 使用np.unique()找出唯一值\n",
    "# 3. 创建两个数组，计算它们的交集\n",
    "# 4. 计算两个数组的并集和差集\n",
    "\n",
    "# 在这里编写你的代码：\n"
   ]
  },
  {
   "cell_type": "markdown",
   "metadata": {},
   "source": [
    "## 第12章：综合实战\n",
    "\n",
    "### 学习目标\n",
    "- 综合运用所学的NumPy知识\n",
    "- 解决实际问题\n",
    "- 提高编程能力\n",
    "\n",
    "### 实战项目\n",
    "1. **数据分析**：使用NumPy处理和分析数据\n",
    "2. **算法实现**：用NumPy实现简单算法\n",
    "3. **性能优化**：比较NumPy和Python循环的性能"
   ]
  },
  {
   "cell_type": "code",
   "execution_count": null,
   "metadata": {},
   "outputs": [],
   "source": [
    "# 任务30：数据分析实战\n",
    "# 要求：\n",
    "# 1. 创建一个包含学生成绩的数组（5个学生，3门课程）\n",
    "# 2. 计算每个学生的总分和平均分\n",
    "# 3. 计算每门课程的平均分和标准差\n",
    "# 4. 找出每门课程的最高分和最低分\n",
    "# 5. 对学生按总分进行排序\n",
    "\n",
    "# 在这里编写你的代码：\n"
   ]
  },
  {
   "cell_type": "code",
   "execution_count": null,
   "metadata": {},
   "outputs": [],
   "source": [
    "# 任务31：线性回归实现\n",
    "# 要求：\n",
    "# 1. 创建一些线性数据（y = 2x + 1 + 噪声）\n",
    "# 2. 使用NumPy实现最小二乘法\n",
    "# 3. 计算斜率和截距\n",
    "# 4. 预测新的x值对应的y值\n",
    "# 5. 计算预测误差\n",
    "\n",
    "# 在这里编写你的代码：\n"
   ]
  },
  {
   "cell_type": "code",
   "execution_count": null,
   "metadata": {},
   "outputs": [],
   "source": [
    "# 任务32：性能对比\n",
    "# 要求：\n",
    "# 1. 创建一个包含100万个元素的数组\n",
    "# 2. 使用NumPy向量化操作计算所有元素的平方\n",
    "# 3. 使用Python循环计算相同操作\n",
    "# 4. 比较两种方法的执行时间\n",
    "# 5. 分析性能差异的原因\n",
    "\n",
    "# 在这里编写你的代码：\n"
   ]
  },
  {
   "cell_type": "markdown",
   "metadata": {},
   "source": [
    "## 总结\n",
    "\n",
    "恭喜你完成了NumPy学习教程！通过本教程，你已经掌握了：\n",
    "\n",
    "### 核心技能\n",
    "- ✅ NumPy基础概念和数组创建\n",
    "- ✅ 数组属性和索引切片\n",
    "- ✅ 数组运算和数学函数\n",
    "- ✅ 线性代数运算\n",
    "- ✅ 数组变形和广播机制\n",
    "- ✅ 数组连接和分割\n",
    "- ✅ 文件操作和实用函数\n",
    "- ✅ 综合实战应用\n",
    "\n",
    "### 下一步学习\n",
    "现在你已经掌握了NumPy的基础，可以继续学习：\n",
    "1. **Pandas**：基于NumPy的数据分析库\n",
    "2. **Matplotlib**：数据可视化库\n",
    "3. **Scikit-learn**：机器学习库\n",
    "4. **深度学习框架**：TensorFlow、PyTorch等\n",
    "\n",
    "### 学习建议\n",
    "- **持续练习**：NumPy需要大量练习才能熟练掌握\n",
    "- **实际应用**：在实际项目中使用NumPy\n",
    "- **深入学习**：探索NumPy的高级功能\n",
    "- **社区参与**：参与NumPy社区，学习最佳实践\n",
    "\n",
    "祝你在机器学习的道路上越走越远！"
   ]
  }
 ],
 "metadata": {
  "kernelspec": {
   "display_name": "Python 3",
   "language": "python",
   "name": "python3"
  },
  "language_info": {
   "codemirror_mode": {
    "name": "ipython",
    "version": 3
   },
   "file_extension": ".py",
   "mimetype": "text/x-python",
   "name": "python",
   "nbconvert_exporter": "python",
   "pygments_lexer": "ipython3",
   "version": "3.8.5"
  }
 },
 "nbformat": 4,
 "nbformat_minor": 4
}
